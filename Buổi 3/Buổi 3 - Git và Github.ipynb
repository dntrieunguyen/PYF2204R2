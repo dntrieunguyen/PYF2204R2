{
 "cells": [
  {
   "cell_type": "markdown",
   "metadata": {},
   "source": [
    "# Git\n",
    "\n",
    "### Git là gì?\n",
    "\n",
    "Git là một cách thức (mô hình, giao thức, công cụ, qui tắc) để lưu trữ mã nguồn và hỗ trợ cộng tác trong quá trình phát triển ứng dụng.\n",
    "\n",
    "<b>Repository:</b> Là nơi chứa mã nguồn (repository có nghĩa là “kho chứa”), tức là nơi mà chúng ta lưu trữ các file, các đoạn mã được viết ra trong suốt quá trình phát triển dự án. Có 2 loại Repository là Local Repository và Remote Repository.\n",
    "\n",
    "<b>Local Repository:</b> Là nơi lưu trữ mã nguồn trên máy tính của lập trình viên. Chẳng hạn Bob và James mỗi người đều có các Local Repository trên máy của riêng mình. Các đoạn mã do Bob hoặc James viết ra đều được lưu trữ trên các Local Repository đó.\n",
    "\n",
    "<b>Remote Repository:</b> Là nơi lưu trữ mã nguồn ở trên mạng (chẳng hạn là mạng Internet hay là mạng nội bộ của một công ty). Để có Remote Repository thì chúng ta cần có một máy chủ và cài Git Server lên đó. Hoặc chúng ta có thể sử dụng các dịch vụ miễn phí (chẳng hạn như GitHub.com, GitLab.com…). Remote Repository (có nghĩa là “kho chứa từ xa”) là nơi mà cả Bob và James đều có thể truy cập được để tải mã nguồn về hoặc đưa mã nguồn lên đó.\n",
    "\n",
    "![image.png](attachment:image.png)"
   ]
  },
  {
   "cell_type": "markdown",
   "metadata": {},
   "source": [
    "### Tải và cài đặt git\n",
    "\n",
    "Link tải: https://git-scm.com/\n",
    "\n",
    "Khi cài đặt, không thay đổi bất kỳ thông số gì, bấm next liên tục.\n",
    "\n",
    "Mở CMD tại thư mục bất kỳ\n",
    "\n",
    "Thực hiện 2 lệnh sau để khởi tạo người dùng:\n",
    "\n",
    "- <b>git config --global user.name \\<tennguoidung\\>:</b> Khởi tạo tên người dùng\n",
    "- <b>git config --global user.email \\<diachiemail\\>:</b> Khởi tạo địa chỉ email người dùng"
   ]
  },
  {
   "cell_type": "markdown",
   "metadata": {},
   "source": [
    "### Tạo Local Repository\n",
    "\n",
    "Chọn thư mục tạo và chạy CMD (hoặc terminal)\n",
    "\n",
    "Gõ lệnh: `git init`\n",
    "\n",
    "Lệnh này giúp khởi tạo 1 repository ở thư mục chạy cmd\n",
    "\n",
    "![image.png](attachment:image.png)\n",
    "\n",
    "##### 2 lệnh cần nhớ\n",
    "\n",
    "- <b>git add *:</b> thêm toàn bộ file từ thư mục vào phòng chờ\n",
    "- <b>git commit -m \"message\":</b> thêm toàn bộ file từ phòng chờ vào kho chứ"
   ]
  },
  {
   "cell_type": "markdown",
   "metadata": {},
   "source": [
    "### Tạo Remote Repository trên Github\n",
    "\n",
    "Link github: https://github.com/\n",
    "\n",
    "Tạo tài khoản và một Repository trên github\n",
    "\n",
    "![image.png](attachment:image.png)\n",
    "\n",
    "##### 3 lệnh cần nhớ\n",
    "- <b>git remote add origin \\<url>:</b> Tạo kết nối giữa kho chứa và kho chứa mạng\n",
    "- <b>git push --set-upstream origin master:</b> Đẩy dữ liệu từ kho chứa lên kho chứa mạng lần đầu\n",
    "- <b>git push:</b> Đẩy dữ liệu từ kho chứa lên kho chứa mạng"
   ]
  },
  {
   "cell_type": "markdown",
   "metadata": {},
   "source": [
    "### Ghi nhớ thứ tự thao tác:\n",
    "#### KHỞI TẠO VÀ KẾT NỐI REPOSITORY:\n",
    "<b>B1:</b> git init\n",
    "\n",
    "<b>B2:</b> git remove add orgin <url>\n",
    "    \n",
    "<b>B3:</b> git add *\n",
    "    \n",
    "<b>B4:</b> git commmit -m \"message\"\n",
    "    \n",
    "<b>B5:</b> git push --set-upstream origin master\n",
    "    \n",
    "#### ĐẨY DỮ LIỆU LÊN REMOTE REPOSITORY\n",
    "    \n",
    "<b>B1:</b> git add *\n",
    "\n",
    "<b>B2:</b> git commmit -m \"message\"\n",
    "    \n",
    "<b>B3:</b> git push"
   ]
  }
 ],
 "metadata": {
  "kernelspec": {
   "display_name": "Python 3 (ipykernel)",
   "language": "python",
   "name": "python3"
  },
  "language_info": {
   "codemirror_mode": {
    "name": "ipython",
    "version": 3
   },
   "file_extension": ".py",
   "mimetype": "text/x-python",
   "name": "python",
   "nbconvert_exporter": "python",
   "pygments_lexer": "ipython3",
   "version": "3.9.7"
  }
 },
 "nbformat": 4,
 "nbformat_minor": 5
}
